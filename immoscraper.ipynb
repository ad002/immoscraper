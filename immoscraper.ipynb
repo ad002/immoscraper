{
 "cells": [
  {
   "cell_type": "markdown",
   "metadata": {},
   "source": [
    "# Immoscraper\n",
    "- This is a notebook to scrape immoscout24.de, a german real estate website for flats\n",
    "- I'll test & learn extracting data needed for first page as this one has some exceptions, not only in link structure, and will then move on to loop over all following approx. 40 pages of flat listings given no search parameters except than Location: Hamburg"
   ]
  },
  {
   "cell_type": "markdown",
   "metadata": {},
   "source": [
    "Link Structure\n",
    "- Page 1 : https://www.immobilienscout24.de/Suche/S-T/Wohnung-Miete/Hamburg/Hamburg?enteredFrom=result_list\n",
    "- Page 2:  https://www.immobilienscout24.de/Suche/S-T/P-2/Wohnung-Miete/Hamburg/Hamburg\n",
    "- Page 3:  https://www.immobilienscout24.de/Suche/S-T/P-3/Wohnung-Miete/Hamburg/Hamburg"
   ]
  },
  {
   "cell_type": "code",
   "execution_count": 109,
   "metadata": {},
   "outputs": [],
   "source": [
    "import requests \n",
    "from bs4 import BeautifulSoup\n",
    "import pandas as pd"
   ]
  },
  {
   "cell_type": "code",
   "execution_count": 110,
   "metadata": {},
   "outputs": [],
   "source": [
    "#Downloading data from immobilienscout24 for Hamburg\n",
    "data = requests.get('https://www.immobilienscout24.de/Suche/S-T/Wohnung-Miete/Hamburg/Hamburg?enteredFrom=result_list')\n",
    "#Reading in the text of the html with data.text, then parsing html w/ BS4 \n",
    "soup = BeautifulSoup(data.text, 'html.parser')"
   ]
  },
  {
   "cell_type": "code",
   "execution_count": 111,
   "metadata": {},
   "outputs": [
    {
     "name": "stdout",
     "output_type": "stream",
     "text": [
      "<!DOCTYPE doctype html>\n",
      "<html lang=\"de\">\n",
      " <head>\n",
      "  <meta content=\"IE=edge,chrome=1\" http-equiv=\"X-UA\n"
     ]
    }
   ],
   "source": [
    "#Printing first 100 chars of soup.prettify to check if everything worked properly\n",
    "print(soup.prettify()[0:100])"
   ]
  },
  {
   "cell_type": "markdown",
   "metadata": {},
   "source": [
    "# The first Page "
   ]
  },
  {
   "cell_type": "markdown",
   "metadata": {},
   "source": [
    "## Extracting Price, Size and # of Rooms"
   ]
  },
  {
   "cell_type": "code",
   "execution_count": 112,
   "metadata": {},
   "outputs": [
    {
     "data": {
      "text/plain": [
       "['1.150 €', '75,14 m²', '2 Zi.2', '1.470 €', '97,65 m²', '3 Zi.3']"
      ]
     },
     "execution_count": 112,
     "metadata": {},
     "output_type": "execute_result"
    }
   ],
   "source": [
    "infos=[]\n",
    "#Getting Price, Size and Rooms which are all stored into the <dd> tag of class 'font-nowrap font-line-xs'\n",
    "for i in soup.find_all(\"dd\", {\"class\":\"font-nowrap font-line-xs\"}):\n",
    "    infos.append(i.text)\n",
    "#First 3 entries are data for ONE apartement | Price/Size/Rooms\n",
    "infos[0:6]"
   ]
  },
  {
   "cell_type": "code",
   "execution_count": 113,
   "metadata": {
    "scrolled": true
   },
   "outputs": [],
   "source": [
    "#Only prices, gt every 4th element out of the list, starting with 0th element\n",
    "price = infos[::3]\n",
    "#Only size, get every 4th element out of list, starting with second element\n",
    "size = infos[1::3]\n",
    "#Only number of rooms, get every 4th element out of list, starting with third element\n",
    "rooms = infos[2::3]"
   ]
  },
  {
   "cell_type": "markdown",
   "metadata": {},
   "source": [
    "## Data Cleaning\n",
    "- a float can be constructed from a string, but ist has to have the right format \n",
    "- No spaces (or non-digit characters)\n",
    "- Period (.) as decimal separator, not comma (,)\n",
    "- some special things are allowed (e.g. 'inf', '5e3'...)"
   ]
  },
  {
   "cell_type": "code",
   "execution_count": 1,
   "metadata": {},
   "outputs": [
    {
     "ename": "NameError",
     "evalue": "name 'price' is not defined",
     "output_type": "error",
     "traceback": [
      "\u001b[0;31m---------------------------------------------------------------------------\u001b[0m",
      "\u001b[0;31mNameError\u001b[0m                                 Traceback (most recent call last)",
      "\u001b[0;32m<ipython-input-1-29c283273d40>\u001b[0m in \u001b[0;36m<module>\u001b[0;34m\u001b[0m\n\u001b[1;32m      1\u001b[0m \u001b[0;31m#Remove the € sign in price\u001b[0m\u001b[0;34m\u001b[0m\u001b[0;34m\u001b[0m\u001b[0m\n\u001b[0;32m----> 2\u001b[0;31m \u001b[0mprice\u001b[0m \u001b[0;34m=\u001b[0m \u001b[0;34m[\u001b[0m\u001b[0ms\u001b[0m\u001b[0;34m.\u001b[0m\u001b[0mreplace\u001b[0m\u001b[0;34m(\u001b[0m\u001b[0;34m'€'\u001b[0m\u001b[0;34m,\u001b[0m\u001b[0;34m''\u001b[0m\u001b[0;34m)\u001b[0m\u001b[0;32mfor\u001b[0m \u001b[0ms\u001b[0m \u001b[0;32min\u001b[0m \u001b[0mprice\u001b[0m\u001b[0;34m]\u001b[0m\u001b[0;34m\u001b[0m\u001b[0m\n\u001b[0m\u001b[1;32m      3\u001b[0m \u001b[0;31m##Remove spaces\u001b[0m\u001b[0;34m\u001b[0m\u001b[0;34m\u001b[0m\u001b[0m\n\u001b[1;32m      4\u001b[0m \u001b[0mprice\u001b[0m \u001b[0;34m=\u001b[0m \u001b[0;34m[\u001b[0m\u001b[0ms\u001b[0m\u001b[0;34m.\u001b[0m\u001b[0mreplace\u001b[0m\u001b[0;34m(\u001b[0m\u001b[0;34m' '\u001b[0m\u001b[0;34m,\u001b[0m\u001b[0;34m''\u001b[0m\u001b[0;34m)\u001b[0m \u001b[0;32mfor\u001b[0m \u001b[0ms\u001b[0m \u001b[0;32min\u001b[0m \u001b[0mprice\u001b[0m\u001b[0;34m]\u001b[0m\u001b[0;34m\u001b[0m\u001b[0m\n\u001b[1;32m      5\u001b[0m \u001b[0;31m#Remove the dots with whitespace as first dot is just a string sign for 1000's\u001b[0m\u001b[0;34m\u001b[0m\u001b[0;34m\u001b[0m\u001b[0m\n",
      "\u001b[0;31mNameError\u001b[0m: name 'price' is not defined"
     ]
    }
   ],
   "source": [
    "#Remove the € sign in price \n",
    "price = [s.replace('€','')for s in price]\n",
    "##Remove spaces \n",
    "price = [s.replace(' ','') for s in price]\n",
    "#Remove the dots with whitespace as first dot is just a string sign for 1000's\n",
    "#Format is: 123.345,908\n",
    "price = [s.replace('.','')for s in price]\n",
    "#And then, replace the , with . as separator so new format is 1234,56\n",
    "price =[s.replace(',','.')for s in price]\n",
    "#Finally, convert to float\n",
    "price = [float(s)for s in price]"
   ]
  },
  {
   "cell_type": "code",
   "execution_count": 115,
   "metadata": {},
   "outputs": [],
   "source": [
    "#remove m² in size\n",
    "size = [s.replace('m²','')for s in size]\n",
    "#Remove spaces \n",
    "size = [s.replace(' ','') for s in size]\n",
    "#Remove first dots with whitespace as they are sign for 1000s\n",
    "size=[s.replace('.','')for s in size]\n",
    "#Replace the decimal delimiter , with . so I can convert to float\n",
    "size = [s.replace(',','.')for s in size]\n",
    "#Finally, convert to float \n",
    "size = [float(s)for s in size]"
   ]
  },
  {
   "cell_type": "code",
   "execution_count": 116,
   "metadata": {},
   "outputs": [],
   "source": [
    "#Store 3 Lists in a Dataframe \n",
    "df = pd.DataFrame({'price':price, 'size':size,'rooms':rooms})"
   ]
  },
  {
   "cell_type": "code",
   "execution_count": 117,
   "metadata": {},
   "outputs": [
    {
     "data": {
      "text/html": [
       "<div>\n",
       "<style scoped>\n",
       "    .dataframe tbody tr th:only-of-type {\n",
       "        vertical-align: middle;\n",
       "    }\n",
       "\n",
       "    .dataframe tbody tr th {\n",
       "        vertical-align: top;\n",
       "    }\n",
       "\n",
       "    .dataframe thead th {\n",
       "        text-align: right;\n",
       "    }\n",
       "</style>\n",
       "<table border=\"1\" class=\"dataframe\">\n",
       "  <thead>\n",
       "    <tr style=\"text-align: right;\">\n",
       "      <th></th>\n",
       "      <th>price</th>\n",
       "      <th>rooms</th>\n",
       "      <th>size</th>\n",
       "    </tr>\n",
       "  </thead>\n",
       "  <tbody>\n",
       "    <tr>\n",
       "      <th>0</th>\n",
       "      <td>1150.00</td>\n",
       "      <td>2 Zi.2</td>\n",
       "      <td>75.14</td>\n",
       "    </tr>\n",
       "    <tr>\n",
       "      <th>1</th>\n",
       "      <td>1470.00</td>\n",
       "      <td>3 Zi.3</td>\n",
       "      <td>97.65</td>\n",
       "    </tr>\n",
       "    <tr>\n",
       "      <th>2</th>\n",
       "      <td>1575.00</td>\n",
       "      <td>4 Zi.4</td>\n",
       "      <td>121.02</td>\n",
       "    </tr>\n",
       "    <tr>\n",
       "      <th>3</th>\n",
       "      <td>2500.00</td>\n",
       "      <td>5 Zi.5</td>\n",
       "      <td>166.02</td>\n",
       "    </tr>\n",
       "    <tr>\n",
       "      <th>4</th>\n",
       "      <td>720.00</td>\n",
       "      <td>3 Zi.3</td>\n",
       "      <td>72.00</td>\n",
       "    </tr>\n",
       "    <tr>\n",
       "      <th>5</th>\n",
       "      <td>347.04</td>\n",
       "      <td>2 Zi.2</td>\n",
       "      <td>57.00</td>\n",
       "    </tr>\n",
       "    <tr>\n",
       "      <th>6</th>\n",
       "      <td>821.00</td>\n",
       "      <td>2 Zi.2</td>\n",
       "      <td>59.00</td>\n",
       "    </tr>\n",
       "    <tr>\n",
       "      <th>7</th>\n",
       "      <td>752.00</td>\n",
       "      <td>2 Zi.2</td>\n",
       "      <td>54.00</td>\n",
       "    </tr>\n",
       "    <tr>\n",
       "      <th>8</th>\n",
       "      <td>550.00</td>\n",
       "      <td>1 Zi.1</td>\n",
       "      <td>32.00</td>\n",
       "    </tr>\n",
       "    <tr>\n",
       "      <th>9</th>\n",
       "      <td>1199.00</td>\n",
       "      <td>3 Zi.3</td>\n",
       "      <td>88.73</td>\n",
       "    </tr>\n",
       "  </tbody>\n",
       "</table>\n",
       "</div>"
      ],
      "text/plain": [
       "     price   rooms    size\n",
       "0  1150.00  2 Zi.2   75.14\n",
       "1  1470.00  3 Zi.3   97.65\n",
       "2  1575.00  4 Zi.4  121.02\n",
       "3  2500.00  5 Zi.5  166.02\n",
       "4   720.00  3 Zi.3   72.00\n",
       "5   347.04  2 Zi.2   57.00\n",
       "6   821.00  2 Zi.2   59.00\n",
       "7   752.00  2 Zi.2   54.00\n",
       "8   550.00  1 Zi.1   32.00\n",
       "9  1199.00  3 Zi.3   88.73"
      ]
     },
     "execution_count": 117,
     "metadata": {},
     "output_type": "execute_result"
    }
   ],
   "source": [
    "df[0:10]"
   ]
  },
  {
   "cell_type": "markdown",
   "metadata": {},
   "source": [
    "## Adding Flat Titles"
   ]
  },
  {
   "cell_type": "code",
   "execution_count": 118,
   "metadata": {},
   "outputs": [
    {
     "data": {
      "text/plain": [
       "['neue Wohnung - neues Glück',\n",
       " 'Geniale 3-Zimmerwohnung!  ***Erstbezug***',\n",
       " 'Familienfreundliches Wohnen',\n",
       " 'Traumhafte Penthousewohnung! ***Erstbezug***']"
      ]
     },
     "execution_count": 118,
     "metadata": {},
     "output_type": "execute_result"
    }
   ],
   "source": [
    "titles=[]\n",
    "#Find all titles of the ad which are all stored inside the <h5> tag of class\n",
    "for i in soup.find_all('h5', {'class':'result-list-entry__brand-title font-h6 onlyLarge nine-tenths margin-bottom-none maxtwolinerHeadline'}):\n",
    "    titles.append(i.text)\n",
    "titles[0:20]"
   ]
  },
  {
   "cell_type": "code",
   "execution_count": 119,
   "metadata": {},
   "outputs": [
    {
     "data": {
      "text/plain": [
       "4"
      ]
     },
     "execution_count": 119,
     "metadata": {},
     "output_type": "execute_result"
    }
   ],
   "source": [
    "len(titles)"
   ]
  },
  {
   "cell_type": "markdown",
   "metadata": {},
   "source": [
    "## Problem: \n",
    "- There are different types of titles as on the first page you have sponsored entries (6 to be exact)\n",
    "- need to append other elements to titles list also"
   ]
  },
  {
   "cell_type": "code",
   "execution_count": 120,
   "metadata": {},
   "outputs": [],
   "source": [
    "#Other titles are also in h5 tag but of different class\n",
    "for i in soup.find_all('h5', {'class':'result-list-entry__brand-title font-h6 onlyLarge nine-tenths maxtwolinerHeadline'}):\n",
    "    titles.append(i.text)"
   ]
  },
  {
   "cell_type": "code",
   "execution_count": 121,
   "metadata": {},
   "outputs": [],
   "source": [
    "df['titles'] = pd.Series(titles).values"
   ]
  },
  {
   "cell_type": "code",
   "execution_count": 122,
   "metadata": {},
   "outputs": [
    {
     "data": {
      "text/html": [
       "<div>\n",
       "<style scoped>\n",
       "    .dataframe tbody tr th:only-of-type {\n",
       "        vertical-align: middle;\n",
       "    }\n",
       "\n",
       "    .dataframe tbody tr th {\n",
       "        vertical-align: top;\n",
       "    }\n",
       "\n",
       "    .dataframe thead th {\n",
       "        text-align: right;\n",
       "    }\n",
       "</style>\n",
       "<table border=\"1\" class=\"dataframe\">\n",
       "  <thead>\n",
       "    <tr style=\"text-align: right;\">\n",
       "      <th></th>\n",
       "      <th>price</th>\n",
       "      <th>rooms</th>\n",
       "      <th>size</th>\n",
       "      <th>titles</th>\n",
       "    </tr>\n",
       "  </thead>\n",
       "  <tbody>\n",
       "    <tr>\n",
       "      <th>0</th>\n",
       "      <td>1150.0</td>\n",
       "      <td>2 Zi.2</td>\n",
       "      <td>75.14</td>\n",
       "      <td>neue Wohnung - neues Glück</td>\n",
       "    </tr>\n",
       "    <tr>\n",
       "      <th>1</th>\n",
       "      <td>1470.0</td>\n",
       "      <td>3 Zi.3</td>\n",
       "      <td>97.65</td>\n",
       "      <td>Geniale 3-Zimmerwohnung!  ***Erstbezug***</td>\n",
       "    </tr>\n",
       "    <tr>\n",
       "      <th>2</th>\n",
       "      <td>1575.0</td>\n",
       "      <td>4 Zi.4</td>\n",
       "      <td>121.02</td>\n",
       "      <td>Familienfreundliches Wohnen</td>\n",
       "    </tr>\n",
       "    <tr>\n",
       "      <th>3</th>\n",
       "      <td>2500.0</td>\n",
       "      <td>5 Zi.5</td>\n",
       "      <td>166.02</td>\n",
       "      <td>Traumhafte Penthousewohnung! ***Erstbezug***</td>\n",
       "    </tr>\n",
       "    <tr>\n",
       "      <th>4</th>\n",
       "      <td>720.0</td>\n",
       "      <td>3 Zi.3</td>\n",
       "      <td>72.00</td>\n",
       "      <td>NEUSonnige Dachwohnung über 2 Ebenen zur ruhig...</td>\n",
       "    </tr>\n",
       "  </tbody>\n",
       "</table>\n",
       "</div>"
      ],
      "text/plain": [
       "    price   rooms    size                                             titles\n",
       "0  1150.0  2 Zi.2   75.14                         neue Wohnung - neues Glück\n",
       "1  1470.0  3 Zi.3   97.65          Geniale 3-Zimmerwohnung!  ***Erstbezug***\n",
       "2  1575.0  4 Zi.4  121.02                        Familienfreundliches Wohnen\n",
       "3  2500.0  5 Zi.5  166.02       Traumhafte Penthousewohnung! ***Erstbezug***\n",
       "4   720.0  3 Zi.3   72.00  NEUSonnige Dachwohnung über 2 Ebenen zur ruhig..."
      ]
     },
     "execution_count": 122,
     "metadata": {},
     "output_type": "execute_result"
    }
   ],
   "source": [
    "df.head()"
   ]
  },
  {
   "cell_type": "markdown",
   "metadata": {},
   "source": [
    "## Getting the Address\n",
    "- stored inside a \"<div\" tag of class=\"font-ellipsis“"
   ]
  },
  {
   "cell_type": "code",
   "execution_count": 123,
   "metadata": {},
   "outputs": [
    {
     "data": {
      "text/plain": [
       "['Glückel-von-Hameln-Straße  2, Altona-Nord, Hamburg',\n",
       " 'Susanne-von-Paczensky-Straße  11, Altona-Nord, Hamburg',\n",
       " 'Glückel-von-Hameln-Straße  2, Altona-Nord, Hamburg',\n",
       " 'Susanne-von-Paczensky-Straße  7, Altona-Nord, Hamburg',\n",
       " 'Hummelsbütteler Weg  32, Hummelsbüttel, Hamburg',\n",
       " 'Herr Jan JaegerJan Jaeger Immobilien - Makler für Wohnimmobilien in Hamburg und Norderstedt',\n",
       " 'Ebelingstr. 3, Harburg, Hamburg',\n",
       " 'Frau Andrea WolfVermietungshotline der SAGA Unternehmensgruppe 040 42666 666 tgl. 8-20 Uhr',\n",
       " 'Trilluper Weg 8, Duvenstedt, Hamburg',\n",
       " 'Herr Florian VoigtWohnungsbaugesellschaft mbH Th. Semmelhaack',\n",
       " 'Trilluper Weg 8, Duvenstedt, Hamburg',\n",
       " 'Herr Florian VoigtWohnungsbaugesellschaft mbH Th. Semmelhaack',\n",
       " 'Wördemannsweg 7, Stellingen, Hamburg',\n",
       " 'Matthias LandschofGbR Landschof-Schlosser / Hausverwaltung',\n",
       " 'Bargteheider Straße 134a, Rahlstedt, Hamburg']"
      ]
     },
     "execution_count": 123,
     "metadata": {},
     "output_type": "execute_result"
    }
   ],
   "source": [
    "addresses = []\n",
    "for i in soup.find_all('div', {'class':'font-ellipsis'}):\n",
    "    addresses.append(i.text)\n",
    "addresses[0:15]"
   ]
  },
  {
   "cell_type": "markdown",
   "metadata": {},
   "source": [
    "## Problem\n",
    "- the div tag of class font-ellipsis contains the addresses\n",
    "- the span tag of class font-ellipsis contains the name of the one who inserted the ad \n",
    "- BS4 mixes these up: Sometimes I also get the names, sometmes not so it's not following any rule like 2nd element or something like before so I'll leave that out"
   ]
  },
  {
   "cell_type": "markdown",
   "metadata": {},
   "source": [
    "# Getting Data for all consecutive pages\n",
    "- I'll need a response code check so I know when the end of possible websites is reached \n",
    "- I'll use a loops to extract the data needed \n",
    "- as there are 20 ads per page I'll get the number of total ads to know how many consecutive pages ther'll be"
   ]
  },
  {
   "cell_type": "markdown",
   "metadata": {},
   "source": [
    "## Link structure\n",
    "- Page 2: https://www.immobilienscout24.de/Suche/S-T/P-2/Wohnung-Miete/Hamburg/Hamburg\n",
    "- Page 3: https://www.immobilienscout24.de/Suche/S-T/P-3/Wohnung-Miete/Hamburg/Hamburg"
   ]
  },
  {
   "cell_type": "markdown",
   "metadata": {},
   "source": [
    "## Getting number of pages to scrape"
   ]
  },
  {
   "cell_type": "code",
   "execution_count": 124,
   "metadata": {},
   "outputs": [],
   "source": [
    "#Getting total number of ads to calculate how many pages there are \n",
    "totalAds = []\n",
    "#totalAds.text doesn't work but inexplainable within a loop like seen before so I'll just do this although loop is stupid\n",
    "#for one element \n",
    "for i in soup.find_all('span', {'class':'font-normal'}):\n",
    "    totalAds.append(i.text)\n",
    "totalAds = float(totalAds[0])"
   ]
  },
  {
   "cell_type": "code",
   "execution_count": 125,
   "metadata": {},
   "outputs": [
    {
     "data": {
      "text/plain": [
       "1238.0"
      ]
     },
     "execution_count": 125,
     "metadata": {},
     "output_type": "execute_result"
    }
   ],
   "source": [
    "#As total # of Ads is stated as a float due to the fact that it's written a string with . as 1000 sign I'll do x1000\n",
    "totalAds= float(totalAds*1000)\n",
    "totalAds"
   ]
  },
  {
   "cell_type": "code",
   "execution_count": 126,
   "metadata": {},
   "outputs": [
    {
     "data": {
      "text/plain": [
       "62"
      ]
     },
     "execution_count": 126,
     "metadata": {},
     "output_type": "execute_result"
    }
   ],
   "source": [
    "#As there's 20 ads per page we'll divide by 20 and round up and use math.ceil() (ceiling) function as rounding down \n",
    "#wouldn't make sense as you'd 'throw away' ads \n",
    "import math \n",
    "numberPages = math.ceil(totalAds/20)\n",
    "numberPages"
   ]
  },
  {
   "cell_type": "markdown",
   "metadata": {},
   "source": [
    "## Linklist for scraper to access all consecutive pages"
   ]
  },
  {
   "cell_type": "code",
   "execution_count": 127,
   "metadata": {},
   "outputs": [
    {
     "data": {
      "text/plain": [
       "['https://www.immobilienscout24.de/Suche/S-T/P-2/Wohnung-Miete/Hamburg/Hamburg',\n",
       " 'https://www.immobilienscout24.de/Suche/S-T/P-3/Wohnung-Miete/Hamburg/Hamburg',\n",
       " 'https://www.immobilienscout24.de/Suche/S-T/P-4/Wohnung-Miete/Hamburg/Hamburg',\n",
       " 'https://www.immobilienscout24.de/Suche/S-T/P-5/Wohnung-Miete/Hamburg/Hamburg']"
      ]
     },
     "execution_count": 127,
     "metadata": {},
     "output_type": "execute_result"
    }
   ],
   "source": [
    "linklist=[]\n",
    "#Fill in the consecutive number inside the links\n",
    "for i in range(numberPages):\n",
    "    linklist.append('https://www.immobilienscout24.de/Suche/S-T/P-'+str(i)+'/Wohnung-Miete/Hamburg/Hamburg')\n",
    "#Drop first two elements as they're not needed since second page starts with P-2\n",
    "linklist = linklist[2:len(linklist)]\n",
    "linklist[0:4]"
   ]
  },
  {
   "cell_type": "markdown",
   "metadata": {},
   "source": [
    "## getting All pages"
   ]
  },
  {
   "cell_type": "code",
   "execution_count": 128,
   "metadata": {},
   "outputs": [
    {
     "name": "stdout",
     "output_type": "stream",
     "text": [
      "Success\n"
     ]
    }
   ],
   "source": [
    "#Just for testing \n",
    "if requests.get('https://www.google.com/maps').status_code==200:\n",
    "    print ('Success')"
   ]
  },
  {
   "cell_type": "markdown",
   "metadata": {},
   "source": [
    "## Extracting size, price, number of rooms"
   ]
  },
  {
   "cell_type": "code",
   "execution_count": 129,
   "metadata": {},
   "outputs": [],
   "source": [
    "#Same code parts as above, but with difference that I'll extract for all pages this time\n",
    "infos2=[]\n",
    "titles2=[]\n",
    "for i in linklist:\n",
    "    #Only if page is available, keep going:\n",
    "    if requests.get(i).status_code==200:\n",
    "        #Getting raw html\n",
    "        page = requests.get(i)\n",
    "        #Creating Parse Tree for raw HTML with BS4\n",
    "        soup = BeautifulSoup(page.text,'html.parser')\n",
    "        #Getting Price, Size and Rooms which are all stored into the <dd> tag of class 'font-nowrap font-line-xs'\n",
    "        for x in soup.find_all(\"dd\", {\"class\":\"font-nowrap font-line-xs\"}):\n",
    "            infos2.append(x.text)\n",
    "    \n",
    "        #Find all titles of the ad which are all stored inside the <h5> tag of class\n",
    "        for y in soup.find_all('h5', {'class':'result-list-entry__brand-title font-h6 onlyLarge nine-tenths font-ellipsis'}):\n",
    "            titles2.append(y.text)"
   ]
  },
  {
   "cell_type": "code",
   "execution_count": 130,
   "metadata": {},
   "outputs": [],
   "source": [
    "#Only prices, gt every 4th element out of the list, starting with 0th element\n",
    "price2 = infos2[::3]\n",
    "#Only size, get every 4th element out of list, starting with second element\n",
    "size2 = infos2[1::3]\n",
    "#Only number of rooms, get every 4th element out of list, starting with third element\n",
    "rooms2 = infos2[2::3]"
   ]
  },
  {
   "cell_type": "code",
   "execution_count": 131,
   "metadata": {},
   "outputs": [
    {
     "name": "stdout",
     "output_type": "stream",
     "text": [
      "1199 1199 1199 1170\n"
     ]
    }
   ],
   "source": [
    "print(len(price2),len(size2),len(rooms2),len(titles2))"
   ]
  },
  {
   "cell_type": "code",
   "execution_count": 132,
   "metadata": {},
   "outputs": [],
   "source": [
    "#As there seem to be titles missing I'll fill the missing values with '/'\n",
    "for i in range(1199):\n",
    "    if len(titles2)<1199:\n",
    "        titles2.append('/')"
   ]
  },
  {
   "cell_type": "code",
   "execution_count": 133,
   "metadata": {},
   "outputs": [
    {
     "name": "stdout",
     "output_type": "stream",
     "text": [
      "1199 1199 1199 1199\n"
     ]
    }
   ],
   "source": [
    "print(len(price2),len(size2),len(rooms2),len(titles2))"
   ]
  },
  {
   "cell_type": "markdown",
   "metadata": {},
   "source": [
    "# Data Cleaning\n",
    "- Remove € sign from 'price' column \n",
    "- remove m2 from 'size' column \n",
    "- convert both columns to numeric "
   ]
  },
  {
   "cell_type": "code",
   "execution_count": 134,
   "metadata": {},
   "outputs": [],
   "source": [
    "price2 = [s.replace('€','')for s in price2]\n",
    "##Remove spaces \n",
    "price2 = [s.replace(' ','') for s in price2]\n",
    "\n",
    "#Format is: 123.345,908\n",
    "price2 = [s.replace('.','')for s in price2]\n",
    "#And then, replace the , with . as separator \n",
    "price2 =[s.replace(',','.')for s in price2]\n",
    "\n",
    "#-> Problem: If there are not two points, everything after the first point will also be removed\n",
    "#Convert to int\n",
    "#price = [str(s) for s in price]\n",
    "price2 = [float(s)for s in price2]"
   ]
  },
  {
   "cell_type": "code",
   "execution_count": 135,
   "metadata": {},
   "outputs": [],
   "source": [
    "#remove m² in size\n",
    "size2 = [s.replace('m²','')for s in size2]\n",
    "#Remove spaces \n",
    "size2 = [s.replace(' ','') for s in size2]\n",
    "#Remove first dots with whitespace as they are sign for 1000s\n",
    "size2=[s.replace('.','')for s in size2]\n",
    "#Replace the decimal delimiter , with . so I can convert to float\n",
    "size2 = [s.replace(',','.')for s in size2]\n",
    "#Finally, convert to float \n",
    "size2 = [float(s)for s in size2]"
   ]
  },
  {
   "cell_type": "code",
   "execution_count": 136,
   "metadata": {},
   "outputs": [
    {
     "data": {
      "text/html": [
       "<div>\n",
       "<style scoped>\n",
       "    .dataframe tbody tr th:only-of-type {\n",
       "        vertical-align: middle;\n",
       "    }\n",
       "\n",
       "    .dataframe tbody tr th {\n",
       "        vertical-align: top;\n",
       "    }\n",
       "\n",
       "    .dataframe thead th {\n",
       "        text-align: right;\n",
       "    }\n",
       "</style>\n",
       "<table border=\"1\" class=\"dataframe\">\n",
       "  <thead>\n",
       "    <tr style=\"text-align: right;\">\n",
       "      <th></th>\n",
       "      <th>price</th>\n",
       "      <th>rooms</th>\n",
       "      <th>size</th>\n",
       "      <th>titles</th>\n",
       "    </tr>\n",
       "  </thead>\n",
       "  <tbody>\n",
       "    <tr>\n",
       "      <th>0</th>\n",
       "      <td>1200.00</td>\n",
       "      <td>3 Zi.3</td>\n",
       "      <td>87.28</td>\n",
       "      <td>NEU//WILLKOMMEN im \"Quartier 21\"...Exklusive 2...</td>\n",
       "    </tr>\n",
       "    <tr>\n",
       "      <th>1</th>\n",
       "      <td>955.00</td>\n",
       "      <td>2 Zi.2</td>\n",
       "      <td>69.44</td>\n",
       "      <td>NEUSchöne 3-Zimmer-Wohnung in Barmbek-Nord</td>\n",
       "    </tr>\n",
       "    <tr>\n",
       "      <th>2</th>\n",
       "      <td>1300.00</td>\n",
       "      <td>3 Zi.3</td>\n",
       "      <td>86.04</td>\n",
       "      <td>NEUHelle 2 Zimmer mit EBK u. Balkon!</td>\n",
       "    </tr>\n",
       "    <tr>\n",
       "      <th>3</th>\n",
       "      <td>1440.00</td>\n",
       "      <td>4 Zi.4</td>\n",
       "      <td>99.39</td>\n",
       "      <td>NEUlichtdurchflutete 2,5-Zimmer-Wohnung mit 2 ...</td>\n",
       "    </tr>\n",
       "    <tr>\n",
       "      <th>4</th>\n",
       "      <td>1296.85</td>\n",
       "      <td>3 Zi.3</td>\n",
       "      <td>100.22</td>\n",
       "      <td>Ab 16.05.2019 - Attraktive 3-Zimmerwohnung in ...</td>\n",
       "    </tr>\n",
       "  </tbody>\n",
       "</table>\n",
       "</div>"
      ],
      "text/plain": [
       "     price   rooms    size                                             titles\n",
       "0  1200.00  3 Zi.3   87.28  NEU//WILLKOMMEN im \"Quartier 21\"...Exklusive 2...\n",
       "1   955.00  2 Zi.2   69.44         NEUSchöne 3-Zimmer-Wohnung in Barmbek-Nord\n",
       "2  1300.00  3 Zi.3   86.04               NEUHelle 2 Zimmer mit EBK u. Balkon!\n",
       "3  1440.00  4 Zi.4   99.39  NEUlichtdurchflutete 2,5-Zimmer-Wohnung mit 2 ...\n",
       "4  1296.85  3 Zi.3  100.22  Ab 16.05.2019 - Attraktive 3-Zimmerwohnung in ..."
      ]
     },
     "execution_count": 136,
     "metadata": {},
     "output_type": "execute_result"
    }
   ],
   "source": [
    "#Second DataFrame for every Info > page 1, will merge both later \n",
    "\n",
    "#Store 3 Lists in a Dataframe \n",
    "df2 = pd.DataFrame({'price':price2, 'size':size2,'rooms':rooms2, 'titles':titles2})\n",
    "df2.head()"
   ]
  },
  {
   "cell_type": "code",
   "execution_count": 137,
   "metadata": {},
   "outputs": [],
   "source": [
    "#Merge both dataframes for one big dataset\n",
    "bigData = df.append(df2)"
   ]
  },
  {
   "cell_type": "code",
   "execution_count": 138,
   "metadata": {},
   "outputs": [
    {
     "data": {
      "text/html": [
       "<div>\n",
       "<style scoped>\n",
       "    .dataframe tbody tr th:only-of-type {\n",
       "        vertical-align: middle;\n",
       "    }\n",
       "\n",
       "    .dataframe tbody tr th {\n",
       "        vertical-align: top;\n",
       "    }\n",
       "\n",
       "    .dataframe thead th {\n",
       "        text-align: right;\n",
       "    }\n",
       "</style>\n",
       "<table border=\"1\" class=\"dataframe\">\n",
       "  <thead>\n",
       "    <tr style=\"text-align: right;\">\n",
       "      <th></th>\n",
       "      <th>price</th>\n",
       "      <th>rooms</th>\n",
       "      <th>size</th>\n",
       "      <th>titles</th>\n",
       "    </tr>\n",
       "  </thead>\n",
       "  <tbody>\n",
       "    <tr>\n",
       "      <th>1194</th>\n",
       "      <td>735.0</td>\n",
       "      <td>2 Zi.2</td>\n",
       "      <td>65.00</td>\n",
       "      <td>/</td>\n",
       "    </tr>\n",
       "    <tr>\n",
       "      <th>1195</th>\n",
       "      <td>798.7</td>\n",
       "      <td>3 Zi.3</td>\n",
       "      <td>79.87</td>\n",
       "      <td>/</td>\n",
       "    </tr>\n",
       "    <tr>\n",
       "      <th>1196</th>\n",
       "      <td>690.0</td>\n",
       "      <td>2 Zi.2</td>\n",
       "      <td>80.00</td>\n",
       "      <td>/</td>\n",
       "    </tr>\n",
       "    <tr>\n",
       "      <th>1197</th>\n",
       "      <td>1880.0</td>\n",
       "      <td>4,5 Zi.4,5</td>\n",
       "      <td>148.00</td>\n",
       "      <td>/</td>\n",
       "    </tr>\n",
       "    <tr>\n",
       "      <th>1198</th>\n",
       "      <td>815.0</td>\n",
       "      <td>2 Zi.2</td>\n",
       "      <td>85.29</td>\n",
       "      <td>/</td>\n",
       "    </tr>\n",
       "  </tbody>\n",
       "</table>\n",
       "</div>"
      ],
      "text/plain": [
       "       price       rooms    size titles\n",
       "1194   735.0      2 Zi.2   65.00      /\n",
       "1195   798.7      3 Zi.3   79.87      /\n",
       "1196   690.0      2 Zi.2   80.00      /\n",
       "1197  1880.0  4,5 Zi.4,5  148.00      /\n",
       "1198   815.0      2 Zi.2   85.29      /"
      ]
     },
     "execution_count": 138,
     "metadata": {},
     "output_type": "execute_result"
    }
   ],
   "source": [
    "bigData.tail()"
   ]
  },
  {
   "cell_type": "code",
   "execution_count": 139,
   "metadata": {},
   "outputs": [],
   "source": [
    "#Exporting as CSV\n",
    "bigData.to_csv('flatsHH.csv', sep=',', encoding='utf-8')"
   ]
  },
  {
   "cell_type": "code",
   "execution_count": 140,
   "metadata": {},
   "outputs": [
    {
     "name": "stdout",
     "output_type": "stream",
     "text": [
      "<class 'pandas.core.frame.DataFrame'>\n",
      "Int64Index: 1219 entries, 0 to 1198\n",
      "Data columns (total 4 columns):\n",
      "price     1219 non-null float64\n",
      "rooms     1219 non-null object\n",
      "size      1219 non-null float64\n",
      "titles    1219 non-null object\n",
      "dtypes: float64(2), object(2)\n",
      "memory usage: 38.1+ KB\n"
     ]
    }
   ],
   "source": [
    "bigData.info()"
   ]
  },
  {
   "cell_type": "code",
   "execution_count": 311,
   "metadata": {},
   "outputs": [],
   "source": [
    "#bigData['price'] = bigData['price'].astype(float)"
   ]
  },
  {
   "cell_type": "code",
   "execution_count": 146,
   "metadata": {},
   "outputs": [],
   "source": [
    "#Calculate price / qm2 per flat\n",
    "bigData['price/qm2'] = bigData['price']/bigData['size']"
   ]
  },
  {
   "cell_type": "code",
   "execution_count": 147,
   "metadata": {},
   "outputs": [
    {
     "data": {
      "text/html": [
       "<div>\n",
       "<style scoped>\n",
       "    .dataframe tbody tr th:only-of-type {\n",
       "        vertical-align: middle;\n",
       "    }\n",
       "\n",
       "    .dataframe tbody tr th {\n",
       "        vertical-align: top;\n",
       "    }\n",
       "\n",
       "    .dataframe thead th {\n",
       "        text-align: right;\n",
       "    }\n",
       "</style>\n",
       "<table border=\"1\" class=\"dataframe\">\n",
       "  <thead>\n",
       "    <tr style=\"text-align: right;\">\n",
       "      <th></th>\n",
       "      <th>price</th>\n",
       "      <th>rooms</th>\n",
       "      <th>size</th>\n",
       "      <th>titles</th>\n",
       "      <th>price/qm2</th>\n",
       "    </tr>\n",
       "  </thead>\n",
       "  <tbody>\n",
       "    <tr>\n",
       "      <th>0</th>\n",
       "      <td>1150.0</td>\n",
       "      <td>2 Zi.2</td>\n",
       "      <td>75.14</td>\n",
       "      <td>neue Wohnung - neues Glück</td>\n",
       "      <td>15.304764</td>\n",
       "    </tr>\n",
       "    <tr>\n",
       "      <th>1</th>\n",
       "      <td>1470.0</td>\n",
       "      <td>3 Zi.3</td>\n",
       "      <td>97.65</td>\n",
       "      <td>Geniale 3-Zimmerwohnung!  ***Erstbezug***</td>\n",
       "      <td>15.053763</td>\n",
       "    </tr>\n",
       "    <tr>\n",
       "      <th>2</th>\n",
       "      <td>1575.0</td>\n",
       "      <td>4 Zi.4</td>\n",
       "      <td>121.02</td>\n",
       "      <td>Familienfreundliches Wohnen</td>\n",
       "      <td>13.014378</td>\n",
       "    </tr>\n",
       "    <tr>\n",
       "      <th>3</th>\n",
       "      <td>2500.0</td>\n",
       "      <td>5 Zi.5</td>\n",
       "      <td>166.02</td>\n",
       "      <td>Traumhafte Penthousewohnung! ***Erstbezug***</td>\n",
       "      <td>15.058427</td>\n",
       "    </tr>\n",
       "    <tr>\n",
       "      <th>4</th>\n",
       "      <td>720.0</td>\n",
       "      <td>3 Zi.3</td>\n",
       "      <td>72.00</td>\n",
       "      <td>NEUSonnige Dachwohnung über 2 Ebenen zur ruhig...</td>\n",
       "      <td>10.000000</td>\n",
       "    </tr>\n",
       "  </tbody>\n",
       "</table>\n",
       "</div>"
      ],
      "text/plain": [
       "    price   rooms    size                                             titles  \\\n",
       "0  1150.0  2 Zi.2   75.14                         neue Wohnung - neues Glück   \n",
       "1  1470.0  3 Zi.3   97.65          Geniale 3-Zimmerwohnung!  ***Erstbezug***   \n",
       "2  1575.0  4 Zi.4  121.02                        Familienfreundliches Wohnen   \n",
       "3  2500.0  5 Zi.5  166.02       Traumhafte Penthousewohnung! ***Erstbezug***   \n",
       "4   720.0  3 Zi.3   72.00  NEUSonnige Dachwohnung über 2 Ebenen zur ruhig...   \n",
       "\n",
       "   price/qm2  \n",
       "0  15.304764  \n",
       "1  15.053763  \n",
       "2  13.014378  \n",
       "3  15.058427  \n",
       "4  10.000000  "
      ]
     },
     "execution_count": 147,
     "metadata": {},
     "output_type": "execute_result"
    }
   ],
   "source": [
    "bigData.head()"
   ]
  },
  {
   "cell_type": "code",
   "execution_count": 149,
   "metadata": {},
   "outputs": [],
   "source": [
    "#finding the mean, which is average price per sqaure meter for all flats based on the cold/base-rent \n",
    "avgperqm = bigData['price/qm2'].mean()"
   ]
  },
  {
   "cell_type": "code",
   "execution_count": 156,
   "metadata": {},
   "outputs": [
    {
     "name": "stdout",
     "output_type": "stream",
     "text": [
      "The average price per square meter of all 1238.0 screened immoscout24 ads is approx. 14 € for a cold flat in Hamburg\n"
     ]
    }
   ],
   "source": [
    "print('The average price per square meter of all '+str(totalAds)+' screened immoscout24 ads is approx. '+str(round(avgperqm))+' € for a cold flat in Hamburg')"
   ]
  },
  {
   "cell_type": "code",
   "execution_count": 158,
   "metadata": {},
   "outputs": [],
   "source": [
    "import matplotlib.pyplot as plt"
   ]
  },
  {
   "cell_type": "code",
   "execution_count": 165,
   "metadata": {},
   "outputs": [
    {
     "data": {
      "text/plain": [
       "<matplotlib.text.Text at 0x6b8226d0>"
      ]
     },
     "execution_count": 165,
     "metadata": {},
     "output_type": "execute_result"
    },
    {
     "data": {
      "image/png": "[encoded data removed]",
      "text/plain": [
       "<matplotlib.figure.Figure at 0x6be39cd0>"
      ]
     },
     "metadata": {
      "needs_background": "light"
     },
     "output_type": "display_data"
    }
   ],
   "source": [
    "y = bigData.index\n",
    "x = bigData['price/qm2']\n",
    "\n",
    "plt.figure(figsize=(15,10))\n",
    "plt.scatter(x,y,)\n",
    "plt.xlabel('price € per qm2')\n",
    "plt.ylabel('flat number')"
   ]
  },
  {
   "cell_type": "code",
   "execution_count": null,
   "metadata": {},
   "outputs": [],
   "source": []
  }
 ],
 "metadata": {
  "kernelspec": {
   "display_name": "Python 3",
   "language": "python",
   "name": "python3"
  },
  "language_info": {
   "codemirror_mode": {
    "name": "ipython",
    "version": 3
   },
   "file_extension": ".py",
   "mimetype": "text/x-python",
   "name": "python",
   "nbconvert_exporter": "python",
   "pygments_lexer": "ipython3",
   "version": "3.5.3"
  }
 },
 "nbformat": 4,
 "nbformat_minor": 2
}
