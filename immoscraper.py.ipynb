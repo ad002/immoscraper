{
 "cells": [
  {
   "cell_type": "markdown",
   "metadata": {},
   "source": [
    "# Immoscraper\n",
    "- This is a notebook to scrape immoscout24.de, a german real estate website for flats\n",
    "- I'll test & learn extracting data needed for first page as this one has some exceptions, not only in link structure, and will then move on to loop over all following approx. 40 pages of flat listings given no search parameters except than Location: Hamburg"
   ]
  },
  {
   "cell_type": "markdown",
   "metadata": {},
   "source": [
    "Link Structure\n",
    "- Page 1 : https://www.immobilienscout24.de/Suche/S-T/Wohnung-Miete/Hamburg/Hamburg?enteredFrom=result_list\n",
    "- Page 2:  https://www.immobilienscout24.de/Suche/S-T/P-2/Wohnung-Miete/Hamburg/Hamburg\n",
    "- Page 3:  https://www.immobilienscout24.de/Suche/S-T/P-3/Wohnung-Miete/Hamburg/Hamburg"
   ]
  },
  {
   "cell_type": "code",
   "execution_count": 273,
   "metadata": {},
   "outputs": [],
   "source": [
    "import requests \n",
    "from bs4 import BeautifulSoup\n",
    "import pandas as pd"
   ]
  },
  {
   "cell_type": "code",
   "execution_count": 274,
   "metadata": {},
   "outputs": [],
   "source": [
    "#Downloading data from immobilienscout24 for Hamburg\n",
    "data = requests.get('https://www.immobilienscout24.de/Suche/S-T/Wohnung-Miete/Hamburg/Hamburg?enteredFrom=result_list')\n",
    "#Reading in the text of the html with data.text, then parsing html w/ BS4 \n",
    "soup = BeautifulSoup(data.text, 'html.parser')"
   ]
  },
  {
   "cell_type": "code",
   "execution_count": 275,
   "metadata": {},
   "outputs": [
    {
     "name": "stdout",
     "output_type": "stream",
     "text": [
      "<!DOCTYPE doctype html>\n",
      "<html lang=\"de\">\n",
      " <head>\n",
      "  <meta content=\"IE=edge,chrome=1\" http-equiv=\"X-UA\n"
     ]
    }
   ],
   "source": [
    "#Printing first 100 chars of soup.prettify to check if everything worked properly\n",
    "print(soup.prettify()[0:100])"
   ]
  },
  {
   "cell_type": "markdown",
   "metadata": {},
   "source": [
    "# The first Page "
   ]
  },
  {
   "cell_type": "markdown",
   "metadata": {},
   "source": [
    "## Extracting Price, Size and # of Rooms"
   ]
  },
  {
   "cell_type": "code",
   "execution_count": 276,
   "metadata": {},
   "outputs": [
    {
     "data": {
      "text/plain": [
       "['1.060,08 €', '89,97 m²', '3 Zi.3', '841 €', '79,64 m²', '2 Zi.2']"
      ]
     },
     "execution_count": 276,
     "metadata": {},
     "output_type": "execute_result"
    }
   ],
   "source": [
    "infos=[]\n",
    "#Getting Price, Size and Rooms which are all stored into the <dd> tag of class 'font-nowrap font-line-xs'\n",
    "for i in soup.find_all(\"dd\", {\"class\":\"font-nowrap font-line-xs\"}):\n",
    "    infos.append(i.text)\n",
    "#First 3 entries are data for ONE apartement | Price/Size/Rooms\n",
    "infos[0:6]"
   ]
  },
  {
   "cell_type": "code",
   "execution_count": 277,
   "metadata": {
    "scrolled": true
   },
   "outputs": [],
   "source": [
    "#Only prices, gt every 4th element out of the list, starting with 0th element\n",
    "price = infos[::3]\n",
    "#Only size, get every 4th element out of list, starting with second element\n",
    "size = infos[1::3]\n",
    "#Only number of rooms, get every 4th element out of list, starting with third element\n",
    "rooms = infos[2::3]"
   ]
  },
  {
   "cell_type": "markdown",
   "metadata": {},
   "source": [
    "## CAUTION: BUG IN THIS CODE CELL: Replacing size with price "
   ]
  },
  {
   "cell_type": "code",
   "execution_count": 278,
   "metadata": {},
   "outputs": [],
   "source": [
    "#Remove the € sign in price \n",
    "#price = [s.replace('€','')for s in price]\n",
    "##Remove spaces \n",
    "#price = [s.replace(' ','') for s in price]\n",
    "#remove m² in size\n",
    "#size = [s.replace('m²','')for s in size]\n",
    "#Remove spaces \n",
    "#size = [s.replace(' ','') for s in price]"
   ]
  },
  {
   "cell_type": "code",
   "execution_count": 279,
   "metadata": {},
   "outputs": [],
   "source": [
    "#Store 3 Lists in a Dataframe \n",
    "df = pd.DataFrame({'price':price, 'size':size,'rooms':rooms})"
   ]
  },
  {
   "cell_type": "code",
   "execution_count": 280,
   "metadata": {},
   "outputs": [
    {
     "data": {
      "text/html": [
       "<div>\n",
       "<style scoped>\n",
       "    .dataframe tbody tr th:only-of-type {\n",
       "        vertical-align: middle;\n",
       "    }\n",
       "\n",
       "    .dataframe tbody tr th {\n",
       "        vertical-align: top;\n",
       "    }\n",
       "\n",
       "    .dataframe thead th {\n",
       "        text-align: right;\n",
       "    }\n",
       "</style>\n",
       "<table border=\"1\" class=\"dataframe\">\n",
       "  <thead>\n",
       "    <tr style=\"text-align: right;\">\n",
       "      <th></th>\n",
       "      <th>price</th>\n",
       "      <th>rooms</th>\n",
       "      <th>size</th>\n",
       "    </tr>\n",
       "  </thead>\n",
       "  <tbody>\n",
       "    <tr>\n",
       "      <th>0</th>\n",
       "      <td>1.060,08 €</td>\n",
       "      <td>3 Zi.3</td>\n",
       "      <td>89,97 m²</td>\n",
       "    </tr>\n",
       "    <tr>\n",
       "      <th>1</th>\n",
       "      <td>841 €</td>\n",
       "      <td>2 Zi.2</td>\n",
       "      <td>79,64 m²</td>\n",
       "    </tr>\n",
       "    <tr>\n",
       "      <th>2</th>\n",
       "      <td>1.150 €</td>\n",
       "      <td>2 Zi.2</td>\n",
       "      <td>75,14 m²</td>\n",
       "    </tr>\n",
       "    <tr>\n",
       "      <th>3</th>\n",
       "      <td>1.470 €</td>\n",
       "      <td>3 Zi.3</td>\n",
       "      <td>97,65 m²</td>\n",
       "    </tr>\n",
       "    <tr>\n",
       "      <th>4</th>\n",
       "      <td>1.575 €</td>\n",
       "      <td>4 Zi.4</td>\n",
       "      <td>121,02 m²</td>\n",
       "    </tr>\n",
       "  </tbody>\n",
       "</table>\n",
       "</div>"
      ],
      "text/plain": [
       "        price   rooms       size\n",
       "0  1.060,08 €  3 Zi.3   89,97 m²\n",
       "1       841 €  2 Zi.2   79,64 m²\n",
       "2     1.150 €  2 Zi.2   75,14 m²\n",
       "3     1.470 €  3 Zi.3   97,65 m²\n",
       "4     1.575 €  4 Zi.4  121,02 m²"
      ]
     },
     "execution_count": 280,
     "metadata": {},
     "output_type": "execute_result"
    }
   ],
   "source": [
    "df.head()"
   ]
  },
  {
   "cell_type": "markdown",
   "metadata": {},
   "source": [
    "## Adding Flat Titles"
   ]
  },
  {
   "cell_type": "code",
   "execution_count": 281,
   "metadata": {},
   "outputs": [
    {
     "data": {
      "text/plain": [
       "['Sonnige Quadratmeter ! Moderne 3-Zimmer-Wohnung in Langenhorn',\n",
       " 'Einziehen und Wohlfühlen! 2-Zimmer-Wohnung mit Blick ins Grüne',\n",
       " 'neue Wohnung - neues Glück',\n",
       " 'Geniale 3-Zimmerwohnung!  ***Erstbezug***',\n",
       " 'Familienfreundliches Wohnen',\n",
       " 'Traumhafte Penthousewohnung! ***Erstbezug***']"
      ]
     },
     "execution_count": 281,
     "metadata": {},
     "output_type": "execute_result"
    }
   ],
   "source": [
    "titles=[]\n",
    "#Find all titles of the ad which are all stored inside the <h5> tag of class\n",
    "for i in soup.find_all('h5', {'class':'result-list-entry__brand-title font-h6 onlyLarge nine-tenths margin-bottom-none maxtwolinerHeadline'}):\n",
    "    titles.append(i.text)\n",
    "titles[0:20]"
   ]
  },
  {
   "cell_type": "code",
   "execution_count": 282,
   "metadata": {},
   "outputs": [
    {
     "data": {
      "text/plain": [
       "6"
      ]
     },
     "execution_count": 282,
     "metadata": {},
     "output_type": "execute_result"
    }
   ],
   "source": [
    "len(titles)"
   ]
  },
  {
   "cell_type": "markdown",
   "metadata": {},
   "source": [
    "## Problem: \n",
    "- There are different types of titles as on the first page you have sponsored entries (6 to be exact)\n",
    "- need to append other elements to titles list also"
   ]
  },
  {
   "cell_type": "code",
   "execution_count": 283,
   "metadata": {},
   "outputs": [],
   "source": [
    "#Other titles are also in h5 tag but of different class\n",
    "for i in soup.find_all('h5', {'class':'result-list-entry__brand-title font-h6 onlyLarge nine-tenths maxtwolinerHeadline'}):\n",
    "    titles.append(i.text)"
   ]
  },
  {
   "cell_type": "code",
   "execution_count": 284,
   "metadata": {},
   "outputs": [],
   "source": [
    "df['titles'] = pd.Series(titles).values"
   ]
  },
  {
   "cell_type": "code",
   "execution_count": 285,
   "metadata": {},
   "outputs": [
    {
     "data": {
      "text/html": [
       "<div>\n",
       "<style scoped>\n",
       "    .dataframe tbody tr th:only-of-type {\n",
       "        vertical-align: middle;\n",
       "    }\n",
       "\n",
       "    .dataframe tbody tr th {\n",
       "        vertical-align: top;\n",
       "    }\n",
       "\n",
       "    .dataframe thead th {\n",
       "        text-align: right;\n",
       "    }\n",
       "</style>\n",
       "<table border=\"1\" class=\"dataframe\">\n",
       "  <thead>\n",
       "    <tr style=\"text-align: right;\">\n",
       "      <th></th>\n",
       "      <th>price</th>\n",
       "      <th>rooms</th>\n",
       "      <th>size</th>\n",
       "      <th>titles</th>\n",
       "    </tr>\n",
       "  </thead>\n",
       "  <tbody>\n",
       "    <tr>\n",
       "      <th>0</th>\n",
       "      <td>1.060,08 €</td>\n",
       "      <td>3 Zi.3</td>\n",
       "      <td>89,97 m²</td>\n",
       "      <td>Sonnige Quadratmeter ! Moderne 3-Zimmer-Wohnun...</td>\n",
       "    </tr>\n",
       "    <tr>\n",
       "      <th>1</th>\n",
       "      <td>841 €</td>\n",
       "      <td>2 Zi.2</td>\n",
       "      <td>79,64 m²</td>\n",
       "      <td>Einziehen und Wohlfühlen! 2-Zimmer-Wohnung mit...</td>\n",
       "    </tr>\n",
       "    <tr>\n",
       "      <th>2</th>\n",
       "      <td>1.150 €</td>\n",
       "      <td>2 Zi.2</td>\n",
       "      <td>75,14 m²</td>\n",
       "      <td>neue Wohnung - neues Glück</td>\n",
       "    </tr>\n",
       "    <tr>\n",
       "      <th>3</th>\n",
       "      <td>1.470 €</td>\n",
       "      <td>3 Zi.3</td>\n",
       "      <td>97,65 m²</td>\n",
       "      <td>Geniale 3-Zimmerwohnung!  ***Erstbezug***</td>\n",
       "    </tr>\n",
       "    <tr>\n",
       "      <th>4</th>\n",
       "      <td>1.575 €</td>\n",
       "      <td>4 Zi.4</td>\n",
       "      <td>121,02 m²</td>\n",
       "      <td>Familienfreundliches Wohnen</td>\n",
       "    </tr>\n",
       "    <tr>\n",
       "      <th>5</th>\n",
       "      <td>2.500 €</td>\n",
       "      <td>5 Zi.5</td>\n",
       "      <td>166,02 m²</td>\n",
       "      <td>Traumhafte Penthousewohnung! ***Erstbezug***</td>\n",
       "    </tr>\n",
       "    <tr>\n",
       "      <th>6</th>\n",
       "      <td>550 €</td>\n",
       "      <td>1 Zi.1</td>\n",
       "      <td>32 m²</td>\n",
       "      <td>NEUTraumschöne  1 Zi. -Wohnung in einer Jugend...</td>\n",
       "    </tr>\n",
       "    <tr>\n",
       "      <th>7</th>\n",
       "      <td>1.199 €</td>\n",
       "      <td>3 Zi.3</td>\n",
       "      <td>88,73 m²</td>\n",
       "      <td>3 Zimmer, Einbauküche, Balkon</td>\n",
       "    </tr>\n",
       "    <tr>\n",
       "      <th>8</th>\n",
       "      <td>550 €</td>\n",
       "      <td>2 Zi.2</td>\n",
       "      <td>36 m²</td>\n",
       "      <td>2 Zimmer Wohnung nur für Studenten</td>\n",
       "    </tr>\n",
       "    <tr>\n",
       "      <th>9</th>\n",
       "      <td>303,30 €</td>\n",
       "      <td>1,5 Zi.1,5</td>\n",
       "      <td>40,04 m²</td>\n",
       "      <td>Schöne und helle 1-1/2- Zi.-Whg. in Harburg-He...</td>\n",
       "    </tr>\n",
       "    <tr>\n",
       "      <th>10</th>\n",
       "      <td>3.432 €</td>\n",
       "      <td>3 Zi.3</td>\n",
       "      <td>156 m²</td>\n",
       "      <td>3 - Zimmer-Wohnung in Hamburg-Pöseldorf</td>\n",
       "    </tr>\n",
       "    <tr>\n",
       "      <th>11</th>\n",
       "      <td>896 €</td>\n",
       "      <td>2,5 Zi.2,5</td>\n",
       "      <td>64,02 m²</td>\n",
       "      <td>Komplett sanierte 2,5-Zimmerwohnung frei ab 10...</td>\n",
       "    </tr>\n",
       "    <tr>\n",
       "      <th>12</th>\n",
       "      <td>1.940 €</td>\n",
       "      <td>4 Zi.4</td>\n",
       "      <td>110 m²</td>\n",
       "      <td>NEUMaisonettewohnung in Stadthaus nahe des Als...</td>\n",
       "    </tr>\n",
       "    <tr>\n",
       "      <th>13</th>\n",
       "      <td>730 €</td>\n",
       "      <td>1 Zi.1</td>\n",
       "      <td>48,99 m²</td>\n",
       "      <td>Tolle 1-Zi.-Neubau-Whg. mit EBK u. Terrasse</td>\n",
       "    </tr>\n",
       "    <tr>\n",
       "      <th>14</th>\n",
       "      <td>821 €</td>\n",
       "      <td>2 Zi.2</td>\n",
       "      <td>59 m²</td>\n",
       "      <td>Barrierearme 2-Zimmer-Terrassen-Wohnung</td>\n",
       "    </tr>\n",
       "    <tr>\n",
       "      <th>15</th>\n",
       "      <td>740 €</td>\n",
       "      <td>2 Zi.2</td>\n",
       "      <td>74 m²</td>\n",
       "      <td>2-Zimmer Wohnung in Rahlstedt</td>\n",
       "    </tr>\n",
       "    <tr>\n",
       "      <th>16</th>\n",
       "      <td>1.077 €</td>\n",
       "      <td>4 Zi.4</td>\n",
       "      <td>95,41 m²</td>\n",
       "      <td>NEUNeubau-Zweitbezug: 2 2/2-Zi.-Whg. für die k...</td>\n",
       "    </tr>\n",
       "    <tr>\n",
       "      <th>17</th>\n",
       "      <td>820 €</td>\n",
       "      <td>2 Zi.2</td>\n",
       "      <td>69 m²</td>\n",
       "      <td>Moderne 2-Zimmer Wohnung am Alsterdorfer Markt...</td>\n",
       "    </tr>\n",
       "    <tr>\n",
       "      <th>18</th>\n",
       "      <td>1.130,40 €</td>\n",
       "      <td>2 Zi.2</td>\n",
       "      <td>62,8 m²</td>\n",
       "      <td>Wohnen nahe der Hafencity</td>\n",
       "    </tr>\n",
       "    <tr>\n",
       "      <th>19</th>\n",
       "      <td>1.200 €</td>\n",
       "      <td>3 Zi.3</td>\n",
       "      <td>87,28 m²</td>\n",
       "      <td>ERSTBEZUG in WELLINGSBÜTTEL  !!! Attraktive un...</td>\n",
       "    </tr>\n",
       "  </tbody>\n",
       "</table>\n",
       "</div>"
      ],
      "text/plain": [
       "         price       rooms       size  \\\n",
       "0   1.060,08 €      3 Zi.3   89,97 m²   \n",
       "1        841 €      2 Zi.2   79,64 m²   \n",
       "2      1.150 €      2 Zi.2   75,14 m²   \n",
       "3      1.470 €      3 Zi.3   97,65 m²   \n",
       "4      1.575 €      4 Zi.4  121,02 m²   \n",
       "5      2.500 €      5 Zi.5  166,02 m²   \n",
       "6        550 €      1 Zi.1      32 m²   \n",
       "7      1.199 €      3 Zi.3   88,73 m²   \n",
       "8        550 €      2 Zi.2      36 m²   \n",
       "9     303,30 €  1,5 Zi.1,5   40,04 m²   \n",
       "10     3.432 €      3 Zi.3     156 m²   \n",
       "11       896 €  2,5 Zi.2,5   64,02 m²   \n",
       "12     1.940 €      4 Zi.4     110 m²   \n",
       "13       730 €      1 Zi.1   48,99 m²   \n",
       "14       821 €      2 Zi.2      59 m²   \n",
       "15       740 €      2 Zi.2      74 m²   \n",
       "16     1.077 €      4 Zi.4   95,41 m²   \n",
       "17       820 €      2 Zi.2      69 m²   \n",
       "18  1.130,40 €      2 Zi.2    62,8 m²   \n",
       "19     1.200 €      3 Zi.3   87,28 m²   \n",
       "\n",
       "                                               titles  \n",
       "0   Sonnige Quadratmeter ! Moderne 3-Zimmer-Wohnun...  \n",
       "1   Einziehen und Wohlfühlen! 2-Zimmer-Wohnung mit...  \n",
       "2                          neue Wohnung - neues Glück  \n",
       "3           Geniale 3-Zimmerwohnung!  ***Erstbezug***  \n",
       "4                         Familienfreundliches Wohnen  \n",
       "5        Traumhafte Penthousewohnung! ***Erstbezug***  \n",
       "6   NEUTraumschöne  1 Zi. -Wohnung in einer Jugend...  \n",
       "7                       3 Zimmer, Einbauküche, Balkon  \n",
       "8                  2 Zimmer Wohnung nur für Studenten  \n",
       "9   Schöne und helle 1-1/2- Zi.-Whg. in Harburg-He...  \n",
       "10            3 - Zimmer-Wohnung in Hamburg-Pöseldorf  \n",
       "11  Komplett sanierte 2,5-Zimmerwohnung frei ab 10...  \n",
       "12  NEUMaisonettewohnung in Stadthaus nahe des Als...  \n",
       "13        Tolle 1-Zi.-Neubau-Whg. mit EBK u. Terrasse  \n",
       "14            Barrierearme 2-Zimmer-Terrassen-Wohnung  \n",
       "15                      2-Zimmer Wohnung in Rahlstedt  \n",
       "16  NEUNeubau-Zweitbezug: 2 2/2-Zi.-Whg. für die k...  \n",
       "17  Moderne 2-Zimmer Wohnung am Alsterdorfer Markt...  \n",
       "18                         Wohnen nahe der Hafencity   \n",
       "19  ERSTBEZUG in WELLINGSBÜTTEL  !!! Attraktive un...  "
      ]
     },
     "execution_count": 285,
     "metadata": {},
     "output_type": "execute_result"
    }
   ],
   "source": [
    "df"
   ]
  },
  {
   "cell_type": "markdown",
   "metadata": {},
   "source": [
    "## Getting the Address\n",
    "- stored inside a \"<div\" tag of class=\"font-ellipsis“"
   ]
  },
  {
   "cell_type": "code",
   "execution_count": 286,
   "metadata": {},
   "outputs": [
    {
     "data": {
      "text/plain": [
       "['Sumpfcallastieg  9, Langenhorn, Hamburg',\n",
       " 'Kreuzblumenweg  14, Langenhorn, Hamburg',\n",
       " 'Glückel-von-Hameln-Straße  2, Altona-Nord, Hamburg',\n",
       " 'Susanne-von-Paczensky-Straße  11, Altona-Nord, Hamburg',\n",
       " 'Glückel-von-Hameln-Straße  2, Altona-Nord, Hamburg',\n",
       " 'Susanne-von-Paczensky-Straße  7, Altona-Nord, Hamburg',\n",
       " 'Wördemannsweg 7, Stellingen, Hamburg',\n",
       " 'Matthias LandschofGbR Landschof-Schlosser / Hausverwaltung',\n",
       " 'Bargteheider Straße 134a, Rahlstedt, Hamburg',\n",
       " 'Herr Max MüllerSTRABAG Property and Facility Services GmbH',\n",
       " 'Wördemannsweg 7, Stellingen, Hamburg',\n",
       " 'Matthias LandschofGbR Landschof-Schlosser / Hausverwaltung',\n",
       " 'Baustraße 10, Heimfeld, Hamburg',\n",
       " 'Wohnungsunternehmen HeimfeldWohnungsunternehmen Heimfeld GmbH & Co. KG',\n",
       " 'Magdalenenstraße 50, Rotherbaum, Hamburg']"
      ]
     },
     "execution_count": 286,
     "metadata": {},
     "output_type": "execute_result"
    }
   ],
   "source": [
    "addresses = []\n",
    "for i in soup.find_all('div', {'class':'font-ellipsis'}):\n",
    "    addresses.append(i.text)\n",
    "addresses[0:15]"
   ]
  },
  {
   "cell_type": "markdown",
   "metadata": {},
   "source": [
    "## Problem\n",
    "- the div tag of class font-ellipsis contains the addresses\n",
    "- the span tag of class font-ellipsis contains the name of the one who inserted the ad \n",
    "- BS4 mixes these up: Sometimes I also get the names, sometmes not so it's not following any rule like 2nd element or something like before so I'll leave that out"
   ]
  },
  {
   "cell_type": "markdown",
   "metadata": {},
   "source": [
    "# Getting Data for all consecutive pages\n",
    "- I'll need a response code check so I know when the end of possible websites is reached \n",
    "- I'll use a loops to extract the data needed \n",
    "- as there are 20 ads per page I'll get the number of total ads to know how many consecutive pages ther'll be"
   ]
  },
  {
   "cell_type": "markdown",
   "metadata": {},
   "source": [
    "## Link structure\n",
    "- Page 2: https://www.immobilienscout24.de/Suche/S-T/P-2/Wohnung-Miete/Hamburg/Hamburg\n",
    "- Page 3: https://www.immobilienscout24.de/Suche/S-T/P-3/Wohnung-Miete/Hamburg/Hamburg"
   ]
  },
  {
   "cell_type": "markdown",
   "metadata": {},
   "source": [
    "## Getting number of pages to scrape"
   ]
  },
  {
   "cell_type": "code",
   "execution_count": 287,
   "metadata": {},
   "outputs": [],
   "source": [
    "#Getting total number of ads to calculate how many pages there are \n",
    "totalAds = []\n",
    "#totalAds.text doesn't work but inexplainable within a loop like seen before so I'll just do this although loop is stupid\n",
    "#for one element \n",
    "for i in soup.find_all('span', {'class':'font-normal'}):\n",
    "    totalAds.append(i.text)\n",
    "totalAds = float(totalAds[0])"
   ]
  },
  {
   "cell_type": "code",
   "execution_count": 288,
   "metadata": {},
   "outputs": [
    {
     "data": {
      "text/plain": [
       "1235.0"
      ]
     },
     "execution_count": 288,
     "metadata": {},
     "output_type": "execute_result"
    }
   ],
   "source": [
    "#As total # of Ads is stated as a float due to the fact that it's written a string with . as 1000 sign I'll do x1000\n",
    "totalAds= float(totalAds*1000)\n",
    "totalAds"
   ]
  },
  {
   "cell_type": "code",
   "execution_count": 289,
   "metadata": {},
   "outputs": [
    {
     "data": {
      "text/plain": [
       "62"
      ]
     },
     "execution_count": 289,
     "metadata": {},
     "output_type": "execute_result"
    }
   ],
   "source": [
    "#As there's 20 ads per page we'll divide by 20 and round up and use math.ceil() (ceiling) function as rounding down \n",
    "#wouldn't make sense as you'd 'throw away' ads \n",
    "import math \n",
    "numberPages = math.ceil(totalAds/20)\n",
    "numberPages"
   ]
  },
  {
   "cell_type": "markdown",
   "metadata": {},
   "source": [
    "## Linklist for scraper to access all consecutive pages"
   ]
  },
  {
   "cell_type": "code",
   "execution_count": 290,
   "metadata": {},
   "outputs": [
    {
     "data": {
      "text/plain": [
       "['https://www.immobilienscout24.de/Suche/S-T/P-2/Wohnung-Miete/Hamburg/Hamburg',\n",
       " 'https://www.immobilienscout24.de/Suche/S-T/P-3/Wohnung-Miete/Hamburg/Hamburg',\n",
       " 'https://www.immobilienscout24.de/Suche/S-T/P-4/Wohnung-Miete/Hamburg/Hamburg',\n",
       " 'https://www.immobilienscout24.de/Suche/S-T/P-5/Wohnung-Miete/Hamburg/Hamburg']"
      ]
     },
     "execution_count": 290,
     "metadata": {},
     "output_type": "execute_result"
    }
   ],
   "source": [
    "linklist=[]\n",
    "#Fill in the consecutive number inside the links\n",
    "for i in range(numberPages):\n",
    "    linklist.append('https://www.immobilienscout24.de/Suche/S-T/P-'+str(i)+'/Wohnung-Miete/Hamburg/Hamburg')\n",
    "#Drop first two elements as they're not needed since second page starts with P-2\n",
    "linklist = linklist[2:len(linklist)]\n",
    "linklist[0:4]"
   ]
  },
  {
   "cell_type": "markdown",
   "metadata": {},
   "source": [
    "## getting All pages"
   ]
  },
  {
   "cell_type": "code",
   "execution_count": 291,
   "metadata": {},
   "outputs": [
    {
     "name": "stdout",
     "output_type": "stream",
     "text": [
      "Success\n"
     ]
    }
   ],
   "source": [
    "#Just for testing \n",
    "if requests.get('https://www.google.com/maps').status_code==200:\n",
    "    print ('Success')"
   ]
  },
  {
   "cell_type": "markdown",
   "metadata": {},
   "source": [
    "## Extracting size, price, number of rooms"
   ]
  },
  {
   "cell_type": "code",
   "execution_count": 300,
   "metadata": {},
   "outputs": [],
   "source": [
    "#Same code parts as above, but with difference that I'll extract for all pages this time\n",
    "infos2=[]\n",
    "titles2=[]\n",
    "for i in linklist:\n",
    "    #Only if page is available, keep going:\n",
    "    if requests.get(i).status_code==200:\n",
    "        #Getting raw html\n",
    "        page = requests.get(i)\n",
    "        #Creating Parse Tree for raw HTML with BS4\n",
    "        soup = BeautifulSoup(page.text,'html.parser')\n",
    "        #Getting Price, Size and Rooms which are all stored into the <dd> tag of class 'font-nowrap font-line-xs'\n",
    "        for x in soup.find_all(\"dd\", {\"class\":\"font-nowrap font-line-xs\"}):\n",
    "            infos2.append(x.text)\n",
    "    \n",
    "        #Find all titles of the ad which are all stored inside the <h5> tag of class\n",
    "        for y in soup.find_all('h5', {'class':'result-list-entry__brand-title font-h6 onlyLarge nine-tenths font-ellipsis'}):\n",
    "            titles2.append(y.text)"
   ]
  },
  {
   "cell_type": "code",
   "execution_count": 301,
   "metadata": {},
   "outputs": [],
   "source": [
    "#Only prices, gt every 4th element out of the list, starting with 0th element\n",
    "price2 = infos2[::3]\n",
    "#Only size, get every 4th element out of list, starting with second element\n",
    "size2 = infos2[1::3]\n",
    "#Only number of rooms, get every 4th element out of list, starting with third element\n",
    "rooms2 = infos2[2::3]"
   ]
  },
  {
   "cell_type": "code",
   "execution_count": 302,
   "metadata": {},
   "outputs": [
    {
     "name": "stdout",
     "output_type": "stream",
     "text": [
      "1199 1199 1199 1168\n"
     ]
    }
   ],
   "source": [
    "print(len(price2),len(size2),len(rooms2),len(titles2))"
   ]
  },
  {
   "cell_type": "code",
   "execution_count": 303,
   "metadata": {},
   "outputs": [],
   "source": [
    "#As there seem to be titles missing I'll fill the missing values with '/'\n",
    "for i in range(1199):\n",
    "    if len(titles2)<1199:\n",
    "        titles2.append('/')"
   ]
  },
  {
   "cell_type": "code",
   "execution_count": 304,
   "metadata": {},
   "outputs": [
    {
     "name": "stdout",
     "output_type": "stream",
     "text": [
      "1199 1199 1199 1199\n"
     ]
    }
   ],
   "source": [
    "print(len(price2),len(size2),len(rooms2),len(titles2))"
   ]
  },
  {
   "cell_type": "markdown",
   "metadata": {},
   "source": [
    "## CAUTION: BUG IN THIS CODE CELL: Replacing size with price "
   ]
  },
  {
   "cell_type": "code",
   "execution_count": 305,
   "metadata": {},
   "outputs": [],
   "source": [
    "#Remove the € sign in price \n",
    "#price2 = [s.replace('€','')for s in price2]\n",
    "#Remove spaces \n",
    "#price2 = [t.replace(' ','') for t in price2]\n",
    "#remove m² in size\n",
    "#size2 = [u.replace('m²','')for u in size2]\n",
    "#Remove spaces \n",
    "#size2 = [v.replace(' ','') for v in price2]"
   ]
  },
  {
   "cell_type": "code",
   "execution_count": 306,
   "metadata": {},
   "outputs": [
    {
     "data": {
      "text/html": [
       "<div>\n",
       "<style scoped>\n",
       "    .dataframe tbody tr th:only-of-type {\n",
       "        vertical-align: middle;\n",
       "    }\n",
       "\n",
       "    .dataframe tbody tr th {\n",
       "        vertical-align: top;\n",
       "    }\n",
       "\n",
       "    .dataframe thead th {\n",
       "        text-align: right;\n",
       "    }\n",
       "</style>\n",
       "<table border=\"1\" class=\"dataframe\">\n",
       "  <thead>\n",
       "    <tr style=\"text-align: right;\">\n",
       "      <th></th>\n",
       "      <th>price</th>\n",
       "      <th>rooms</th>\n",
       "      <th>size</th>\n",
       "      <th>titles</th>\n",
       "    </tr>\n",
       "  </thead>\n",
       "  <tbody>\n",
       "    <tr>\n",
       "      <th>0</th>\n",
       "      <td>955 €</td>\n",
       "      <td>2 Zi.2</td>\n",
       "      <td>69,44 m²</td>\n",
       "      <td>NEUherrliche 2-Zimmerwohnung mit Weitblick Har...</td>\n",
       "    </tr>\n",
       "    <tr>\n",
       "      <th>1</th>\n",
       "      <td>1.300 €</td>\n",
       "      <td>3 Zi.3</td>\n",
       "      <td>86,04 m²</td>\n",
       "      <td>NEU3-Zimmer-Wohnung in Hamburg - Sinstorf</td>\n",
       "    </tr>\n",
       "    <tr>\n",
       "      <th>2</th>\n",
       "      <td>1.440 €</td>\n",
       "      <td>4 Zi.4</td>\n",
       "      <td>99,39 m²</td>\n",
       "      <td>NEULoftartige &amp; sehr großzügige 1-Zimmer Wohnu...</td>\n",
       "    </tr>\n",
       "    <tr>\n",
       "      <th>3</th>\n",
       "      <td>1.296,85 €</td>\n",
       "      <td>3 Zi.3</td>\n",
       "      <td>100,22 m²</td>\n",
       "      <td>NEULoftartige &amp; sehr großzügige 1-Zimmer Wohnu...</td>\n",
       "    </tr>\n",
       "    <tr>\n",
       "      <th>4</th>\n",
       "      <td>1.285 €</td>\n",
       "      <td>3 Zi.3</td>\n",
       "      <td>86,83 m²</td>\n",
       "      <td>möblierte Wohnung mit  Balkon/Endetage/ neue E...</td>\n",
       "    </tr>\n",
       "  </tbody>\n",
       "</table>\n",
       "</div>"
      ],
      "text/plain": [
       "        price   rooms       size  \\\n",
       "0       955 €  2 Zi.2   69,44 m²   \n",
       "1     1.300 €  3 Zi.3   86,04 m²   \n",
       "2     1.440 €  4 Zi.4   99,39 m²   \n",
       "3  1.296,85 €  3 Zi.3  100,22 m²   \n",
       "4     1.285 €  3 Zi.3   86,83 m²   \n",
       "\n",
       "                                              titles  \n",
       "0  NEUherrliche 2-Zimmerwohnung mit Weitblick Har...  \n",
       "1          NEU3-Zimmer-Wohnung in Hamburg - Sinstorf  \n",
       "2  NEULoftartige & sehr großzügige 1-Zimmer Wohnu...  \n",
       "3  NEULoftartige & sehr großzügige 1-Zimmer Wohnu...  \n",
       "4  möblierte Wohnung mit  Balkon/Endetage/ neue E...  "
      ]
     },
     "execution_count": 306,
     "metadata": {},
     "output_type": "execute_result"
    }
   ],
   "source": [
    "#Second DataFrame for every Info > page 1, will merge both later \n",
    "\n",
    "#Store 3 Lists in a Dataframe \n",
    "df2 = pd.DataFrame({'price':price2, 'size':size2,'rooms':rooms2, 'titles':titles2})\n",
    "df2.head()"
   ]
  },
  {
   "cell_type": "code",
   "execution_count": 307,
   "metadata": {},
   "outputs": [],
   "source": [
    "#Merge both dataframes for one big dataset\n",
    "bigData = df.append(df2)"
   ]
  },
  {
   "cell_type": "code",
   "execution_count": 308,
   "metadata": {},
   "outputs": [
    {
     "data": {
      "text/html": [
       "<div>\n",
       "<style scoped>\n",
       "    .dataframe tbody tr th:only-of-type {\n",
       "        vertical-align: middle;\n",
       "    }\n",
       "\n",
       "    .dataframe tbody tr th {\n",
       "        vertical-align: top;\n",
       "    }\n",
       "\n",
       "    .dataframe thead th {\n",
       "        text-align: right;\n",
       "    }\n",
       "</style>\n",
       "<table border=\"1\" class=\"dataframe\">\n",
       "  <thead>\n",
       "    <tr style=\"text-align: right;\">\n",
       "      <th></th>\n",
       "      <th>price</th>\n",
       "      <th>rooms</th>\n",
       "      <th>size</th>\n",
       "      <th>titles</th>\n",
       "    </tr>\n",
       "  </thead>\n",
       "  <tbody>\n",
       "    <tr>\n",
       "      <th>1194</th>\n",
       "      <td>815 €</td>\n",
       "      <td>2 Zi.2</td>\n",
       "      <td>85,29 m²</td>\n",
       "      <td>/</td>\n",
       "    </tr>\n",
       "    <tr>\n",
       "      <th>1195</th>\n",
       "      <td>695 €</td>\n",
       "      <td>3 Zi.3</td>\n",
       "      <td>64,39 m²</td>\n",
       "      <td>/</td>\n",
       "    </tr>\n",
       "    <tr>\n",
       "      <th>1196</th>\n",
       "      <td>1.275,59 €</td>\n",
       "      <td>3 Zi.3</td>\n",
       "      <td>104,13 m²</td>\n",
       "      <td>/</td>\n",
       "    </tr>\n",
       "    <tr>\n",
       "      <th>1197</th>\n",
       "      <td>1.290 €</td>\n",
       "      <td>3 Zi.3</td>\n",
       "      <td>108 m²</td>\n",
       "      <td>/</td>\n",
       "    </tr>\n",
       "    <tr>\n",
       "      <th>1198</th>\n",
       "      <td>610 €</td>\n",
       "      <td>2 Zi.2</td>\n",
       "      <td>63,1 m²</td>\n",
       "      <td>/</td>\n",
       "    </tr>\n",
       "  </tbody>\n",
       "</table>\n",
       "</div>"
      ],
      "text/plain": [
       "           price   rooms       size titles\n",
       "1194       815 €  2 Zi.2   85,29 m²      /\n",
       "1195       695 €  3 Zi.3   64,39 m²      /\n",
       "1196  1.275,59 €  3 Zi.3  104,13 m²      /\n",
       "1197     1.290 €  3 Zi.3     108 m²      /\n",
       "1198       610 €  2 Zi.2    63,1 m²      /"
      ]
     },
     "execution_count": 308,
     "metadata": {},
     "output_type": "execute_result"
    }
   ],
   "source": [
    "bigData.tail()"
   ]
  },
  {
   "cell_type": "code",
   "execution_count": 309,
   "metadata": {},
   "outputs": [],
   "source": [
    "#Exporting as CSV\n",
    "bigData.to_csv('flatsHH.csv', sep=',', encoding='utf-8')"
   ]
  },
  {
   "cell_type": "markdown",
   "metadata": {},
   "source": [
    "# Data Cleaning\n",
    "- Remove € sign from 'price' column \n",
    "- remove m2 from 'size' column \n",
    "- convert both columns to numeric "
   ]
  },
  {
   "cell_type": "code",
   "execution_count": 310,
   "metadata": {},
   "outputs": [
    {
     "name": "stdout",
     "output_type": "stream",
     "text": [
      "<class 'pandas.core.frame.DataFrame'>\n",
      "Int64Index: 1219 entries, 0 to 1198\n",
      "Data columns (total 4 columns):\n",
      "price     1219 non-null object\n",
      "rooms     1219 non-null object\n",
      "size      1219 non-null object\n",
      "titles    1219 non-null object\n",
      "dtypes: object(4)\n",
      "memory usage: 28.6+ KB\n"
     ]
    }
   ],
   "source": [
    "bigData.info()"
   ]
  },
  {
   "cell_type": "code",
   "execution_count": 311,
   "metadata": {},
   "outputs": [],
   "source": [
    "#bigData['price'] = bigData['price'].astype(float)"
   ]
  },
  {
   "cell_type": "code",
   "execution_count": null,
   "metadata": {},
   "outputs": [],
   "source": []
  }
 ],
 "metadata": {
  "kernelspec": {
   "display_name": "Python 3",
   "language": "python",
   "name": "python3"
  },
  "language_info": {
   "codemirror_mode": {
    "name": "ipython",
    "version": 3
   },
   "file_extension": ".py",
   "mimetype": "text/x-python",
   "name": "python",
   "nbconvert_exporter": "python",
   "pygments_lexer": "ipython3",
   "version": "3.5.3"
  }
 },
 "nbformat": 4,
 "nbformat_minor": 2
}
